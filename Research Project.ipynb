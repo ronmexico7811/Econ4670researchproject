{
 "cells": [
  {
   "cell_type": "code",
   "execution_count": null,
   "metadata": {},
   "outputs": [],
   "source": [
    "shelterdata <- read.csv(\"ShelterFamilyStaysFinalClass.csv\")\n",
    "head(shelterdata)\n",
    "tail(shelterdata)\n",
    "str(shelterdata)\n",
    "shelterdata$BeginStay = NULL \n",
    "shelterdata$EndStay = NULL \n",
    "shelterdata$FirstServiceDate = NULL\n",
    "shelterdata$FirstServiceDate.TorF. = NULL\n",
    "shelterdata$RecidivismCombined = NULL \n",
    "shelterdata$Race = NULL\n",
    "shelterdata$RaceHUD = NULL \n",
    "shelterdata$DiffBetweenEnrollmentDatesOverall = NULL \n",
    "shelterdata$DifferenceBetweenFirstandSecondEnrollment = NULL "
   ]
  },
  {
   "cell_type": "markdown",
   "metadata": {},
   "source": [
    "data = read.csv(\"shelter_skim.csv\", header = T)\n",
    "\n",
    "library(corrplot)\n",
    "\n",
    "plot1 = cor(data)\n",
    "corrplot(plot1, method = \"ellipse\", order = \"alphabet\")\n"
   ]
  },
  {
   "cell_type": "markdown",
   "metadata": {},
   "source": [
    "First lets look at a BMA for FamilyOnlyEnrolledOnce"
   ]
  },
  {
   "cell_type": "code",
   "execution_count": null,
   "metadata": {},
   "outputs": [],
   "source": [
    "attach(shelterdata)\n",
    "library(BMA)\n",
    "dependent = shelterdata$FamilyOnlyEnrolledOnce \n",
    "shelterdata$FamilyOnlyEnrolledOnce = NULL \n",
    "independent = shelterdata[,-1]\n",
    "cBMA = bicreg(independent, dependent, OR = 100) \n",
    "summary(cBMA)\n",
    "imageplot.bma(cBMA, order=\"probne0\")"
   ]
  },
  {
   "cell_type": "code",
   "execution_count": 1,
   "metadata": {},
   "outputs": [
    {
     "name": "stderr",
     "output_type": "stream",
     "text": [
      "Parsed with column specification:\n",
      "cols(\n",
      "  .default = col_double()\n",
      ")\n",
      "See spec(...) for full column specifications.\n",
      "Warning message:\n",
      "“package ‘e1071’ was built under R version 3.5.2”"
     ]
    },
    {
     "data": {
      "text/plain": [
       "\n",
       "Call:\n",
       "svm(formula = StayedInShelterMoreThanOnce ~ ., data = Train, kernel = \"linear\", \n",
       "    type = \"C-classification\", gamma = 0.2, cost = 100)\n",
       "\n",
       "\n",
       "Parameters:\n",
       "   SVM-Type:  C-classification \n",
       " SVM-Kernel:  linear \n",
       "       cost:  100 \n",
       "      gamma:  0.2 \n",
       "\n",
       "Number of Support Vectors:  110\n",
       "\n",
       " ( 53 57 )\n",
       "\n",
       "\n",
       "Number of Classes:  2 \n",
       "\n",
       "Levels: \n",
       " 0 1\n",
       "\n",
       "\n"
      ]
     },
     "metadata": {},
     "output_type": "display_data"
    },
    {
     "data": {
      "text/plain": [
       "       \n",
       "preds_l   0   1\n",
       "      0 229   0\n",
       "      1   0  89"
      ]
     },
     "metadata": {},
     "output_type": "display_data"
    },
    {
     "data": {
      "text/plain": [
       "\n",
       "Call:\n",
       "svm(formula = StayedInShelterMoreThanOnce ~ ., data = Train, kernel = \"radial\", \n",
       "    type = \"C-classification\", gamma = 0.2, cost = 100)\n",
       "\n",
       "\n",
       "Parameters:\n",
       "   SVM-Type:  C-classification \n",
       " SVM-Kernel:  radial \n",
       "       cost:  100 \n",
       "      gamma:  0.2 \n",
       "\n",
       "Number of Support Vectors:  605\n",
       "\n",
       " ( 379 226 )\n",
       "\n",
       "\n",
       "Number of Classes:  2 \n",
       "\n",
       "Levels: \n",
       " 0 1\n",
       "\n",
       "\n"
      ]
     },
     "metadata": {},
     "output_type": "display_data"
    },
    {
     "data": {
      "text/plain": [
       "       \n",
       "preds_r   0   1\n",
       "      0 224  21\n",
       "      1   5  68"
      ]
     },
     "metadata": {},
     "output_type": "display_data"
    },
    {
     "data": {
      "text/plain": [
       "\n",
       "Call:\n",
       "svm(formula = StayedInShelterMoreThanOnce ~ ., data = Train, kernel = \"polynomial\", \n",
       "    type = \"C-classification\", gamma = 0.2, cost = 100)\n",
       "\n",
       "\n",
       "Parameters:\n",
       "   SVM-Type:  C-classification \n",
       " SVM-Kernel:  polynomial \n",
       "       cost:  100 \n",
       "     degree:  3 \n",
       "      gamma:  0.2 \n",
       "     coef.0:  0 \n",
       "\n",
       "Number of Support Vectors:  247\n",
       "\n",
       " ( 156 91 )\n",
       "\n",
       "\n",
       "Number of Classes:  2 \n",
       "\n",
       "Levels: \n",
       " 0 1\n",
       "\n",
       "\n"
      ]
     },
     "metadata": {},
     "output_type": "display_data"
    },
    {
     "data": {
      "text/plain": [
       "       \n",
       "preds_p   0   1\n",
       "      0 228   0\n",
       "      1   1  89"
      ]
     },
     "metadata": {},
     "output_type": "display_data"
    }
   ],
   "source": [
    "#SVM Modeling\n",
    "library(readr)\n",
    "shelter_skim <- read_csv(\"shelter_skim.csv\")\n",
    "\n",
    "#Import Library\n",
    "library(e1071) #Contains the SVM \n",
    "Train <- shelter_skim[1:742,]\n",
    "Test <- shelter_skim[743:1060,]\n",
    "# there are various options associated with SVM training; like changing kernel, gamma and C value.\n",
    "\n",
    "#model linear\n",
    "model_l <- svm(StayedInShelterMoreThanOnce ~.,data=Train, kernel = \"linear\", type = \"C-classification\", gamma=0.2, cost=100)\n",
    "summary(model_l)\n",
    "\n",
    "#Predict Output\n",
    "preds_l <- predict(model_l,Test)\n",
    "table(preds_l, Test$StayedInShelterMoreThanOnce)\n",
    "\n",
    "#model radial\n",
    "model_r <- svm(StayedInShelterMoreThanOnce ~.,data=Train, kernel = \"radial\", type = \"C-classification\", gamma=0.2, cost=100)\n",
    "summary(model_r)\n",
    "\n",
    "#Predict Output\n",
    "preds_r <- predict(model_r,Test)\n",
    "table(preds_r, Test$StayedInShelterMoreThanOnce)\n",
    "\n",
    "#model polynomial\n",
    "model_p <- svm(StayedInShelterMoreThanOnce ~.,data=Train, kernel = \"polynomial\", type = \"C-classification\", gamma=0.2, cost=100)\n",
    "summary(model_p)\n",
    "\n",
    "#Predict Output\n",
    "preds_p <- predict(model_p,Test)\n",
    "table(preds_p, Test$StayedInShelterMoreThanOnce)\n"
   ]
  },
  {
   "cell_type": "code",
   "execution_count": null,
   "metadata": {},
   "outputs": [],
   "source": []
  }
 ],
 "metadata": {
  "kernelspec": {
   "display_name": "R",
   "language": "R",
   "name": "ir"
  },
  "language_info": {
   "codemirror_mode": "r",
   "file_extension": ".r",
   "mimetype": "text/x-r-source",
   "name": "R",
   "pygments_lexer": "r",
   "version": "3.5.1"
  }
 },
 "nbformat": 4,
 "nbformat_minor": 2
}
