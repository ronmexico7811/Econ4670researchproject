{
 "cells": [
  {
   "cell_type": "code",
   "execution_count": null,
   "metadata": {},
   "outputs": [],
   "source": [
    "shelterdata <- read.csv(\"ShelterFamilyStaysFinalClass.csv\")\n",
    "head(shelterdata)\n",
    "tail(shelterdata)\n",
    "str(shelterdata)\n",
    "shelterdata$BeginStay = NULL \n",
    "shelterdata$EndStay = NULL \n",
    "shelterdata$FirstServiceDate = NULL\n",
    "shelterdata$FirstServiceDate.TorF. = NULL\n",
    "shelterdata$RecidivismCombined = NULL \n",
    "shelterdata$Race = NULL\n",
    "shelterdata$RaceHUD = NULL \n",
    "shelterdata$DiffBetweenEnrollmentDatesOverall = NULL \n",
    "shelterdata$DifferenceBetweenFirstandSecondEnrollment = NULL "
   ]
  },
  {
   "cell_type": "code",
   "execution_count": null,
   "metadata": {},
   "outputs": [],
   "source": [
    "data = read.csv(\"shelter_skim.csv\", header = T)\n",
    "\n",
    "library(corrplot)\n",
    "\n",
    "plot1 = cor(data)\n",
    "corrplot(plot1, method = \"ellipse\", order = \"alphabet\")\n"
   ]
  },
  {
   "cell_type": "markdown",
   "metadata": {},
   "source": [
    "First lets look at a BMA for FamilyOnlyEnrolledOnce"
   ]
  },
  {
   "cell_type": "code",
   "execution_count": null,
   "metadata": {},
   "outputs": [],
   "source": [
    "attach(shelterdata)\n",
    "library(BMA)\n",
    "dependent = shelterdata$FamilyOnlyEnrolledOnce \n",
    "shelterdata$FamilyOnlyEnrolledOnce = NULL \n",
    "independent = shelterdata[,-1]\n",
    "cBMA = bicreg(independent, dependent, OR = 100) \n",
    "summary(cBMA)\n",
    "imageplot.bma(cBMA, order=\"probne0\")"
   ]
  },
  {
   "cell_type": "code",
   "execution_count": null,
   "metadata": {},
   "outputs": [],
   "source": [
    "#SVM Modeling\n",
    "library(readr)\n",
    "shelter_skim <- read_csv(\"shelter_skim.csv\")\n",
    "\n",
    "#Import Library\n",
    "library(e1071) #Contains the SVM \n",
    "Train <- shelter_skim[1:742,]\n",
    "Test <- shelter_skim[743:1060,]\n",
    "# there are various options associated with SVM training; like changing kernel, gamma and C value.\n",
    "\n",
    "#model linear\n",
    "model_l <- svm(StayedInShelterMoreThanOnce ~.,data=Train, kernel = \"linear\", type = \"C-classification\", gamma=0.2, cost=100)\n",
    "summary(model_l)\n",
    "\n",
    "#Predict Output\n",
    "preds_l <- predict(model_l,Test)\n",
    "table(preds_l, Test$StayedInShelterMoreThanOnce)\n",
    "\n",
    "#model radial\n",
    "model_r <- svm(StayedInShelterMoreThanOnce ~.,data=Train, kernel = \"radial\", type = \"C-classification\", gamma=0.2, cost=100)\n",
    "summary(model_r)\n",
    "\n",
    "#Predict Output\n",
    "preds_r <- predict(model_r,Test)\n",
    "table(preds_r, Test$StayedInShelterMoreThanOnce)\n",
    "\n",
    "#model polynomial\n",
    "model_p <- svm(StayedInShelterMoreThanOnce ~.,data=Train, kernel = \"polynomial\", type = \"C-classification\", gamma=0.2, cost=100)\n",
    "summary(model_p)\n",
    "\n",
    "#Predict Output\n",
    "preds_p <- predict(model_p,Test)\n",
    "table(preds_p, Test$StayedInShelterMoreThanOnce)\n"
   ]
  },
  {
   "cell_type": "code",
   "execution_count": null,
   "metadata": {},
   "outputs": [],
   "source": []
  }
 ],
 "metadata": {
  "kernelspec": {
   "display_name": "R",
   "language": "R",
   "name": "ir"
  },
  "language_info": {
   "codemirror_mode": "r",
   "file_extension": ".r",
   "mimetype": "text/x-r-source",
   "name": "R",
   "pygments_lexer": "r",
   "version": "3.5.1"
  }
 },
 "nbformat": 4,
 "nbformat_minor": 2
}
