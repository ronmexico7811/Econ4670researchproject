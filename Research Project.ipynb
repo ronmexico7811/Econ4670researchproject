{
 "cells": [
  {
   "cell_type": "code",
   "execution_count": null,
   "metadata": {},
   "outputs": [],
   "source": [
    "shelterdata <- read.csv(\"ShelterFamilyStaysFinalClass.csv\")\n",
    "head(shelterdata)\n",
    "tail(shelterdata)\n",
    "str(shelterdata)\n",
    "shelterdata$BeginStay = NULL \n",
    "shelterdata$EndStay = NULL \n",
    "shelterdata$FirstServiceDate = NULL\n",
    "shelterdata$FirstServiceDate.TorF. = NULL\n",
    "shelterdata$RecidivismCombined = NULL \n",
    "shelterdata$Race = NULL\n",
    "shelterdata$RaceHUD = NULL \n",
    "shelterdata$DiffBetweenEnrollmentDatesOverall = NULL \n",
    "shelterdata$DifferenceBetweenFirstandSecondEnrollment = NULL "
   ]
  },
  {
   "cell_type": "markdown",
   "metadata": {},
   "source": [
    "First lets look at a BMA for FamilyOnlyEnrolledOnce"
   ]
  },
  {
   "cell_type": "code",
   "execution_count": null,
   "metadata": {},
   "outputs": [],
   "source": [
    "attach(shelterdata)\n",
    "library(BMA)\n",
    "dependent = shelterdata$FamilyOnlyEnrolledOnce \n",
    "shelterdata$FamilyOnlyEnrolledOnce = NULL \n",
    "independent = shelterdata[,-1]\n",
    "cBMA = bicreg(independent, dependent, OR = 100) \n",
    "summary(cBMA)\n",
    "imageplot.bma(cBMA, order=\"probne0\")"
   ]
  },
  {
   "cell_type": "code",
   "execution_count": null,
   "metadata": {},
   "outputs": [],
   "source": [
    "sdata <- read.csv(\"finalcleanshelterdata.csv\", header=T)\n",
    "sdata<-sdata[-1]\n",
    "sdata$TotalEnrollments = NULL\n",
    "\n",
    "library(tree)\n",
    "library(randomForest)\n",
    "library(randomForestExplainer)\n",
    "\n",
    "options(width = 60)\n",
    "forest1 <- randomForest(StayedInShelterMoreThanOnce~.-DifferenceBetweenFirstandSecondEnrollment, data= sdata,\n",
    "                        localImp = TRUE, ntree = 400,\n",
    "                        na.action=na.roughfix)\n",
    "explain_forest(forest1)\n",
    "measure_importance(forest1)\n",
    "\n",
    "##require(Metrics) # install.packages('Metrics') if not installed\n",
    "...\n",
    "#y_train = ...\n",
    "#y_predictions = ...\n",
    "\n",
    "## Manual Calc ...\n",
    "#rmse <- sqrt(mean(as.matrix(log1p(y_train) - log1p(y_predictions))^2))\n",
    "#print(paste('RMSE:', rmse))"
   ]
  },
  {
   "cell_type": "code",
   "execution_count": null,
   "metadata": {},
   "outputs": [],
   "source": []
  }
 ],
 "metadata": {
  "kernelspec": {
   "display_name": "R",
   "language": "R",
   "name": "ir"
  },
  "language_info": {
   "codemirror_mode": "r",
   "file_extension": ".r",
   "mimetype": "text/x-r-source",
   "name": "R",
   "pygments_lexer": "r",
   "version": "3.5.1"
  }
 },
 "nbformat": 4,
 "nbformat_minor": 2
}
